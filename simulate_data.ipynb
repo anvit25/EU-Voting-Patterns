{
 "cells": [
  {
   "cell_type": "code",
   "execution_count": 45,
   "metadata": {},
   "outputs": [],
   "source": [
    "import numpy as np\n",
    "import pandas as pd\n",
    "from Methods.utils import Data"
   ]
  },
  {
   "cell_type": "code",
   "execution_count": 46,
   "metadata": {},
   "outputs": [],
   "source": [
    "class Simulate_Data():\n",
    "    def __init__(self, n_issues):\n",
    "        self.data_class = Data()\n",
    "        self.n_issues = n_issues\n",
    "        self.n_countries = self.data_class.country_names.__len__()\n",
    "        self.data_folder = \"simulated_data\"\n",
    "        self.communities = {\n",
    "            'AUT': 0,\n",
    "            'BEL': 0,\n",
    "            'BGR': 1,\n",
    "            'CYP': 2,\n",
    "            'CZE': 1,\n",
    "            'DEU': 0,\n",
    "            'DNK': 0,\n",
    "            'ESP': 2,\n",
    "            'EST': 1,\n",
    "            'FIN': 0,\n",
    "            'FRA': 0,\n",
    "            'GRC': 2,\n",
    "            'HRV': 1,\n",
    "            'HUN': 1,\n",
    "            'IRL': 2,\n",
    "            'ITA': 2,\n",
    "            'LTU': 1,\n",
    "            'LUX': 0,\n",
    "            'LVA': 1,\n",
    "            'MLT': 1,\n",
    "            'NLD': 0,\n",
    "            'POL': 0,\n",
    "            'PRT': 2,\n",
    "            'ROU': 1,\n",
    "            'SVK': 1,\n",
    "            'SVN': 1,\n",
    "            'SWE': 0,\n",
    "        }\n",
    "        self.vote_probabilities = np.zeros((3, self.n_issues))\n",
    "        self.vote_probabilities[0, :] = np.random.beta(0.9, 0.7, self.n_issues) # \"Core EU\" group, everyone passes / everyone fails, more likely to pass\n",
    "        self.vote_probabilities[1, :] = np.random.beta(2, 2, self.n_issues) # \"Outer EU\" group, 50% chance of passing \n",
    "        self.vote_probabilities[2, :] = np.random.beta(0.7, 0.9, self.n_issues) # \"East EU\" group, everyone passes / everyone fails, more likely to fail\n",
    "\n",
    "    \n",
    "    def simulate_data(self):\n",
    "        member_vote_for = np.zeros((self.n_countries, self.n_issues))\n",
    "        member_vote_against = np.ones((self.n_countries, self.n_issues))\n",
    "        for i, country in enumerate(self.data_class.country_names):\n",
    "            member_vote_against[i, :] = self.data_class.country_sizes[i]\n",
    "            for j in range(self.n_issues):\n",
    "                member_vote_for[i, j] = np.random.binomial(self.data_class.country_sizes[i], self.vote_probabilities[self.communities[country], j])\n",
    "        self.member_votes_for = member_vote_for\n",
    "        self.member_votes_against = (member_vote_against - member_vote_for)\n",
    "        self.member_country = np.diag(np.ones(self.n_countries))\n",
    "        return self\n",
    "\n",
    "    def save_data(self):\n",
    "        member_country_df = pd.DataFrame(self.member_country, index=np.arange(self.n_countries), columns=self.data_class.country_names)\n",
    "        member_votes_for_df = pd.DataFrame(self.member_votes_for, index=np.arange(self.n_countries), columns=np.arange(self.n_issues))\n",
    "        member_votes_against_df = pd.DataFrame(self.member_votes_against, index=np.arange(self.n_countries), columns=np.arange(self.n_issues))\n",
    "        \n",
    "        #rename index column to \"member_id\"\n",
    "        member_country_df.index.name = \"member_id\"\n",
    "        member_votes_for_df.index.name = \"member_id\"\n",
    "        member_votes_against_df.index.name = \"member_id\"\n",
    "\n",
    "        member_country_df.to_csv(self.data_folder + \"/member_country.csv\")\n",
    "        member_votes_for_df.to_csv(self.data_folder + \"/member_vote_for.csv\")\n",
    "        member_votes_against_df.to_csv(self.data_folder + \"/member_vote_against.csv\")\n",
    "\n",
    "\n"
   ]
  },
  {
   "cell_type": "code",
   "execution_count": 47,
   "metadata": {},
   "outputs": [],
   "source": [
    "a = Simulate_Data(10).simulate_data()\n",
    "a.save_data()"
   ]
  },
  {
   "cell_type": "code",
   "execution_count": 48,
   "metadata": {},
   "outputs": [
    {
     "data": {
      "text/plain": [
       "array([[17., 19., 13., 14.,  8.,  5., 19., 13., 11., 14.],\n",
       "       [17., 20., 14., 17., 11.,  7., 19., 14., 15., 18.],\n",
       "       [11.,  5.,  4., 11.,  6., 13.,  6., 12., 13., 14.],\n",
       "       [ 3.,  4.,  5.,  2.,  2.,  1.,  1.,  1.,  6.,  6.],\n",
       "       [15.,  6.,  3., 15., 14., 18.,  9., 17., 15., 15.],\n",
       "       [89., 94., 67., 70., 41., 41., 93., 73., 60., 83.],\n",
       "       [13., 13.,  9., 12.,  8.,  6., 13., 10.,  6.,  8.],\n",
       "       [40., 43., 36.,  5., 38., 14., 14., 11., 53., 58.],\n",
       "       [ 5.,  3.,  3.,  4.,  3.,  5.,  3.,  6.,  3.,  6.],\n",
       "       [12., 14., 10., 13.,  7.,  5., 14., 13.,  7.,  9.],\n",
       "       [68., 79., 47., 58., 38., 32., 76., 59., 45., 65.],\n",
       "       [12., 13., 12.,  2., 11.,  7.,  7.,  9., 17., 21.],\n",
       "       [ 6.,  3.,  3.,  8., 10.,  9.,  2.,  6.,  8., 11.],\n",
       "       [17., 11.,  3., 15.,  9., 20.,  5., 13., 15., 20.],\n",
       "       [10.,  8.,  6.,  1.,  8.,  7.,  2.,  3., 12., 13.],\n",
       "       [54., 58., 47.,  5., 45., 27., 27., 15., 69., 73.],\n",
       "       [10.,  7.,  3.,  8.,  5., 10.,  4.,  8.,  6., 10.],\n",
       "       [ 6.,  5.,  3.,  5.,  4.,  1.,  6.,  6.,  4.,  6.],\n",
       "       [ 5.,  6.,  2.,  6.,  5.,  4.,  1.,  3.,  6.,  7.],\n",
       "       [ 5.,  3.,  0.,  2.,  2.,  5.,  4.,  6.,  5.,  4.],\n",
       "       [29., 29., 17., 22.,  9.,  7., 29., 20., 17., 24.],\n",
       "       [51., 52., 37., 37., 25., 14., 50., 40., 34., 40.],\n",
       "       [17., 13., 12.,  1., 16.,  2., 11.,  3., 19., 20.],\n",
       "       [28., 10.,  9., 26., 16., 27.,  9., 26., 25., 28.],\n",
       "       [10.,  4.,  4., 10.,  7., 12.,  4.,  8.,  9., 11.],\n",
       "       [ 7.,  3.,  3.,  7.,  8.,  7.,  1.,  7.,  6.,  7.],\n",
       "       [20., 21., 16., 14., 10.,  7., 21., 15., 18., 18.]])"
      ]
     },
     "execution_count": 48,
     "metadata": {},
     "output_type": "execute_result"
    }
   ],
   "source": [
    "a.member_votes_for"
   ]
  }
 ],
 "metadata": {
  "kernelspec": {
   "display_name": "Python 3",
   "language": "python",
   "name": "python3"
  },
  "language_info": {
   "codemirror_mode": {
    "name": "ipython",
    "version": 3
   },
   "file_extension": ".py",
   "mimetype": "text/x-python",
   "name": "python",
   "nbconvert_exporter": "python",
   "pygments_lexer": "ipython3",
   "version": "3.12.3"
  }
 },
 "nbformat": 4,
 "nbformat_minor": 2
}
